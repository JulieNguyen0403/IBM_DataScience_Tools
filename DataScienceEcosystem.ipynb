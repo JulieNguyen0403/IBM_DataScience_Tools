{
 "cells": [
  {
   "cell_type": "markdown",
   "id": "d06a0b24",
   "metadata": {},
   "source": [
    "# Data Science Tools and Ecosystem"
   ]
  },
  {
   "cell_type": "markdown",
   "id": "fd0d4168",
   "metadata": {},
   "source": [
    "## Author\n",
    "-Julie Nguyen-"
   ]
  },
  {
   "cell_type": "markdown",
   "id": "b678d1ad",
   "metadata": {},
   "source": [
    "In this notebook, Data Science Tools and Ecosystem are summarized."
   ]
  },
  {
   "cell_type": "markdown",
   "id": "cc7f1da8",
   "metadata": {},
   "source": [
    "**Objectives:**\n",
    "* List popular languages for Data Science\n",
    "* List popular libraries for Data Science\n",
    "* List popular Tools for Data Science"
   ]
  },
  {
   "cell_type": "markdown",
   "id": "691de95c",
   "metadata": {},
   "source": [
    "Some of the popular lanaguages that Data Scientists use are:\n",
    "1. Python\n",
    "2. R\n",
    "3. SQL\n",
    "4. Scala"
   ]
  },
  {
   "cell_type": "markdown",
   "id": "1a59bb47",
   "metadata": {},
   "source": [
    "Some of the commonly used libraries used by Data Scientists include:\n",
    "1. Pandas\n",
    "2. Numpy\n",
    "3. PyTorch\n",
    "4. TensorFlow\n",
    "5. Scikit-learn"
   ]
  },
  {
   "cell_type": "markdown",
   "id": "16074808",
   "metadata": {},
   "source": [
    "|Data Science Tools|\n",
    "|:---|\n",
    "|RStudio|\n",
    "|ApacheSpark|\n",
    "|Apache Hadoop|"
   ]
  },
  {
   "cell_type": "markdown",
   "id": "4996bd64",
   "metadata": {},
   "source": [
    "### Below are a few examples of evaluating arithmetic expressions in Python:"
   ]
  },
  {
   "cell_type": "code",
   "execution_count": 4,
   "id": "1bd30ab9",
   "metadata": {},
   "outputs": [
    {
     "data": {
      "text/plain": [
       "17"
      ]
     },
     "execution_count": 4,
     "metadata": {},
     "output_type": "execute_result"
    }
   ],
   "source": [
    "#This is a simple arithmetic expression to multipl then add integers\n",
    "(3*4)+5"
   ]
  },
  {
   "cell_type": "code",
   "execution_count": 7,
   "id": "4ea164ce",
   "metadata": {},
   "outputs": [
    {
     "name": "stdout",
     "output_type": "stream",
     "text": [
      "hours: 3.0\n"
     ]
    }
   ],
   "source": [
    "#This will convert 200 minutes to hours by dividing by 60\n",
    "minutes= 200\n",
    "print('hours:',round(minutes/60,0))"
   ]
  },
  {
   "cell_type": "code",
   "execution_count": null,
   "id": "f32bc772",
   "metadata": {},
   "outputs": [],
   "source": []
  },
  {
   "cell_type": "code",
   "execution_count": null,
   "id": "996e68e7",
   "metadata": {},
   "outputs": [],
   "source": []
  },
  {
   "cell_type": "code",
   "execution_count": null,
   "id": "8b6221ec",
   "metadata": {},
   "outputs": [],
   "source": []
  }
 ],
 "metadata": {
  "kernelspec": {
   "display_name": "Python 3 (ipykernel)",
   "language": "python",
   "name": "python3"
  },
  "language_info": {
   "codemirror_mode": {
    "name": "ipython",
    "version": 3
   },
   "file_extension": ".py",
   "mimetype": "text/x-python",
   "name": "python",
   "nbconvert_exporter": "python",
   "pygments_lexer": "ipython3",
   "version": "3.9.12"
  }
 },
 "nbformat": 4,
 "nbformat_minor": 5
}
